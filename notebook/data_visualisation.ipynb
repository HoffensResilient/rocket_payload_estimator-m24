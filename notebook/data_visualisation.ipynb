{
 "cells": [
  {
   "cell_type": "code",
   "execution_count": null,
   "id": "237b04a7",
   "metadata": {},
   "outputs": [],
   "source": [
    "import pandas as pd\n",
    "import os"
   ]
  },
  {
   "cell_type": "code",
   "execution_count": null,
   "id": "0ffe4b4f",
   "metadata": {},
   "outputs": [],
   "source": [
    "current_dir = os.path.dirname(os.path.abspath('__file__'))\n",
    "csv_path = os.path.join(current_dir, '..', 'data', 'synthetic_rockets_pivoted.csv')\n",
    "df = pd.read_csv(csv_path)"
   ]
  },
  {
   "cell_type": "code",
   "execution_count": null,
   "id": "fbdae165",
   "metadata": {},
   "outputs": [],
   "source": [
    "df.iloc[:,:10]"
   ]
  },
  {
   "cell_type": "code",
   "execution_count": null,
   "id": "15733683",
   "metadata": {},
   "outputs": [],
   "source": [
    "current_dir = os.path.dirname(os.path.abspath('__file__'))\n",
    "xlsx_path = os.path.join(current_dir, '..', 'data', 'rockets_pivoted.xlsx')\n",
    "df = pd.read_excel(xlsx_path)"
   ]
  },
  {
   "cell_type": "code",
   "execution_count": null,
   "id": "6ea95880",
   "metadata": {},
   "outputs": [],
   "source": [
    "df.iloc[:, :10]"
   ]
  }
 ],
 "metadata": {
  "kernelspec": {
   "display_name": "Python 3",
   "language": "python",
   "name": "python3"
  },
  "language_info": {
   "codemirror_mode": {
    "name": "ipython",
    "version": 3
   },
   "file_extension": ".py",
   "mimetype": "text/x-python",
   "name": "python",
   "nbconvert_exporter": "python",
   "pygments_lexer": "ipython3",
   "version": "3.13.5"
  }
 },
 "nbformat": 4,
 "nbformat_minor": 5
}
